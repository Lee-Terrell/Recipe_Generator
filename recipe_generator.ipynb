{
 "cells": [
  {
   "cell_type": "code",
   "execution_count": 1,
   "metadata": {},
   "outputs": [],
   "source": [
    "import os\n",
    "import openai"
   ]
  },
  {
   "cell_type": "code",
   "execution_count": 3,
   "metadata": {},
   "outputs": [
    {
     "data": {
      "text/plain": [
       "str"
      ]
     },
     "execution_count": 3,
     "metadata": {},
     "output_type": "execute_result"
    }
   ],
   "source": [
    "openai.api_key = os.getenv('OPENAI_API_KEY')\n",
    "type(openai.api_key)"
   ]
  },
  {
   "cell_type": "code",
   "execution_count": 4,
   "metadata": {},
   "outputs": [],
   "source": [
    "def create_dish_prompt(list_of_ingredients):\n",
    "    prompt = f\"Create a detailed resipce based on only the following ingredients {', '.join(list_of_ingredients)}. \\n\"\\\n",
    "            +f\"Additionally, assign a title starting with 'Recipe Title: ' to this recipe\"\n",
    "    return prompt"
   ]
  },
  {
   "cell_type": "code",
   "execution_count": 5,
   "metadata": {},
   "outputs": [],
   "source": [
    "recipe = create_dish_prompt(['ham','turkey','eggs','bread'])"
   ]
  },
  {
   "cell_type": "code",
   "execution_count": 6,
   "metadata": {},
   "outputs": [
    {
     "data": {
      "text/plain": [
       "\"Create a detailed resipce based on only the following ingredients ham, turkey, eggs, bread. \\nAdditionally, assign a title starting with 'Recipe Title: ' to this recipe\""
      ]
     },
     "execution_count": 6,
     "metadata": {},
     "output_type": "execute_result"
    }
   ],
   "source": [
    "recipe"
   ]
  },
  {
   "cell_type": "code",
   "execution_count": 7,
   "metadata": {},
   "outputs": [],
   "source": [
    "response = openai.Completion.create(engine='text-davinci-003',\n",
    "                                   prompt=recipe,\n",
    "                                   max_tokens=512,\n",
    "                                   temperature=0.7)"
   ]
  },
  {
   "cell_type": "code",
   "execution_count": 8,
   "metadata": {},
   "outputs": [],
   "source": [
    "result_text = response['choices'][0]['text']"
   ]
  },
  {
   "cell_type": "code",
   "execution_count": 18,
   "metadata": {},
   "outputs": [
    {
     "data": {
      "text/plain": [
       "'\\n\\nRecipe Title: Ham and Turkey Croque Madame\\n\\nIngredients:\\n-4 slices of white sandwich bread\\n-4 slices of cooked ham\\n-4 slices of cooked turkey\\n-4 eggs\\n-4 tablespoons of butter \\n-4 tablespoons of grated cheese\\n-Salt and pepper to taste \\n\\nInstructions:\\n1. Preheat your oven to 375°F.\\n\\n2. Grease a baking sheet with butter or cooking spray.\\n\\n3. Place the 4 slices of bread on the baking sheet.\\n\\n4. Top each slice of bread with 2 slices of cooked ham and 2 slices of cooked turkey.\\n\\n5. Crack an egg onto each slice of bread.\\n\\n6. Sprinkle each egg with salt and pepper to taste.\\n\\n7. Top each egg with 1 tablespoon of grated cheese.\\n\\n8. Top each slice of bread with 1 tablespoon of butter.\\n\\n9. Place the baking sheet in the preheated oven and bake for 15-20 minutes or until the egg whites are cooked and the cheese is melted.\\n\\n10. Serve hot and enjoy!'"
      ]
     },
     "execution_count": 18,
     "metadata": {},
     "output_type": "execute_result"
    }
   ],
   "source": [
    "result_text"
   ]
  },
  {
   "cell_type": "code",
   "execution_count": null,
   "metadata": {},
   "outputs": [],
   "source": []
  }
 ],
 "metadata": {
  "kernelspec": {
   "display_name": "Python 3",
   "language": "python",
   "name": "python3"
  },
  "language_info": {
   "codemirror_mode": {
    "name": "ipython",
    "version": 3
   },
   "file_extension": ".py",
   "mimetype": "text/x-python",
   "name": "python",
   "nbconvert_exporter": "python",
   "pygments_lexer": "ipython3",
   "version": "3.9.6"
  },
  "orig_nbformat": 4
 },
 "nbformat": 4,
 "nbformat_minor": 2
}
